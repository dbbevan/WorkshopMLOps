{
 "cells": [
  {
   "cell_type": "markdown",
   "metadata": {},
   "source": [
    "# 4. Télémétrie AKS"
   ]
  },
  {
   "cell_type": "markdown",
   "metadata": {},
   "source": [
    "<img src='https://github.com/retkowsky/images/blob/master/AzureMLservicebanniere.png?raw=true'>"
   ]
  },
  {
   "cell_type": "markdown",
   "metadata": {},
   "source": [
    "## 1. Informations"
   ]
  },
  {
   "cell_type": "code",
   "execution_count": 1,
   "metadata": {},
   "outputs": [
    {
     "data": {
      "text/plain": [
       "'3.6.9 |Anaconda, Inc.| (default, Jul 30 2019, 19:07:31) \\n[GCC 7.3.0]'"
      ]
     },
     "execution_count": 1,
     "metadata": {},
     "output_type": "execute_result"
    }
   ],
   "source": [
    "import sys\n",
    "sys.version"
   ]
  },
  {
   "cell_type": "code",
   "execution_count": 2,
   "metadata": {},
   "outputs": [
    {
     "name": "stdout",
     "output_type": "stream",
     "text": [
      "2020-03-12 08:27:45.724313\n"
     ]
    }
   ],
   "source": [
    "import datetime\n",
    "now = datetime.datetime.now()\n",
    "print(now)"
   ]
  },
  {
   "cell_type": "code",
   "execution_count": 3,
   "metadata": {},
   "outputs": [
    {
     "name": "stdout",
     "output_type": "stream",
     "text": [
      "Version Azure ML service : 1.0.83\n"
     ]
    }
   ],
   "source": [
    "import azureml.core\n",
    "print(\"Version Azure ML service :\", azureml.core.VERSION)"
   ]
  },
  {
   "cell_type": "code",
   "execution_count": 4,
   "metadata": {},
   "outputs": [],
   "source": [
    "import azureml.core\n",
    "from azureml.core import Workspace\n",
    "from azureml.core.webservice import Webservice\n",
    "from azureml.core.authentication import AzureCliAuthentication\n",
    "import requests\n",
    "import json"
   ]
  },
  {
   "cell_type": "code",
   "execution_count": 5,
   "metadata": {},
   "outputs": [],
   "source": [
    "#Azure subscription\n",
    "subscription_id = \"AREMPLACER\" \n",
    "\n",
    "#Azure resource group \n",
    "resource_group = \"MLOpsworkshopRG\" \n",
    "\n",
    "#Azure ML workspace name and associated Azure region \n",
    "workspace_name = \"MLOpsWorkshop\" \n",
    "workspace_region = \"westeurope\" \n",
    "\n",
    "#Webservice name, URL and key; Paste your REST service URL and key here\n",
    "rest_service_name = \"chd-predictor-service\" # <- the name used by Azure DevOps pipeline\n",
    "rest_service_url = \"AREMPLACER\" \n",
    "rest_service_key = \"AREMPLACER\" "
   ]
  },
  {
   "cell_type": "code",
   "execution_count": 6,
   "metadata": {},
   "outputs": [
    {
     "name": "stdout",
     "output_type": "stream",
     "text": [
      "Workspace configuration succeeded\n"
     ]
    }
   ],
   "source": [
    "ws = Workspace.create(\n",
    "    name = workspace_name,\n",
    "    subscription_id = subscription_id,\n",
    "    resource_group = resource_group, \n",
    "    location = workspace_region,\n",
    "    exist_ok = True)\n",
    "\n",
    "ws.write_config()\n",
    "print('Workspace configuration succeeded')"
   ]
  },
  {
   "cell_type": "markdown",
   "metadata": {},
   "source": [
    "## 2. Call du modèle"
   ]
  },
  {
   "cell_type": "code",
   "execution_count": 7,
   "metadata": {},
   "outputs": [],
   "source": [
    "# This is dummy data, just to test the call\n",
    "test_data = {\"data\":[[61, 1, 150, 103],[43, 1, 180, 99]]}"
   ]
  },
  {
   "cell_type": "code",
   "execution_count": 8,
   "metadata": {},
   "outputs": [
    {
     "name": "stdout",
     "output_type": "stream",
     "text": [
      "Predictions :\n",
      "\"[1, 0]\"\n"
     ]
    }
   ],
   "source": [
    "headers = {'Content-Type':'application/json', 'Authorization':('Bearer '+ rest_service_key)}\n",
    "response = requests.post(rest_service_url, json.dumps(test_data), headers=headers)\n",
    "print('Predictions :')\n",
    "print(response.text)"
   ]
  },
  {
   "cell_type": "markdown",
   "metadata": {},
   "source": [
    "## 3. Activation télémétrie"
   ]
  },
  {
   "cell_type": "code",
   "execution_count": 9,
   "metadata": {},
   "outputs": [],
   "source": [
    "rest_service = Webservice(ws, rest_service_name)"
   ]
  },
  {
   "cell_type": "code",
   "execution_count": 10,
   "metadata": {},
   "outputs": [],
   "source": [
    "rest_service.update(enable_app_insights=True, collect_model_data=True)"
   ]
  },
  {
   "cell_type": "markdown",
   "metadata": {},
   "source": [
    "## 4. Génération d'appels pour simuler des données de télémétries"
   ]
  },
  {
   "cell_type": "code",
   "execution_count": 19,
   "metadata": {},
   "outputs": [
    {
     "name": "stdout",
     "output_type": "stream",
     "text": [
      "Predictions\n",
      "\"[1, 0, 1]\"\n",
      "Predictions\n",
      "\"[1, 0, 1]\"\n",
      "Predictions\n",
      "\"[1, 0, 1]\"\n",
      "CPU times: user 8.41 ms, sys: 4.28 ms, total: 12.7 ms\n",
      "Wall time: 5.69 s\n"
     ]
    }
   ],
   "source": [
    "%%time\n",
    "test_data = {\"data\":[[61, 1, 150, 103],[43, 1, 180, 99],[63,0,138,85]]}\n",
    "\n",
    "headers = {'Content-Type':'application/json', 'Authorization':('Bearer '+ rest_service_key)}\n",
    "response = requests.post(rest_service_url, json.dumps(test_data), headers=headers)\n",
    "print('Predictions')\n",
    "print(response.text)\n",
    "\n",
    "response = requests.post(rest_service_url, json.dumps(test_data), headers=headers)\n",
    "print('Predictions')\n",
    "print(response.text)\n",
    "\n",
    "response = requests.post(rest_service_url, json.dumps(test_data), headers=headers)\n",
    "print('Predictions')\n",
    "print(response.text)"
   ]
  },
  {
   "cell_type": "code",
   "execution_count": 20,
   "metadata": {},
   "outputs": [
    {
     "name": "stdout",
     "output_type": "stream",
     "text": [
      "Prédiction :\n",
      "\"[1]\"\n",
      "CPU times: user 2.89 ms, sys: 1.04 ms, total: 3.93 ms\n",
      "Wall time: 1.9 s\n"
     ]
    }
   ],
   "source": [
    "%%time\n",
    "test_data = {\"data\":[[61, 1, 150, 103]]}\n",
    "\n",
    "headers = {'Content-Type':'application/json', 'Authorization':('Bearer '+ rest_service_key)}\n",
    "response = requests.post(rest_service_url, json.dumps(test_data), headers=headers)\n",
    "print('Prédiction :')\n",
    "print(response.text)"
   ]
  },
  {
   "cell_type": "code",
   "execution_count": 21,
   "metadata": {},
   "outputs": [
    {
     "name": "stdout",
     "output_type": "stream",
     "text": [
      "Prédiction :\n",
      "\"[0]\"\n",
      "CPU times: user 2.41 ms, sys: 1.73 ms, total: 4.14 ms\n",
      "Wall time: 1.8 s\n"
     ]
    }
   ],
   "source": [
    "%%time\n",
    "test_data = {\"data\":[[43, 1, 180, 99]]}\n",
    "\n",
    "headers = {'Content-Type':'application/json', 'Authorization':('Bearer '+ rest_service_key)}\n",
    "response = requests.post(rest_service_url, json.dumps(test_data), headers=headers)\n",
    "print('Prédiction :')\n",
    "print(response.text)"
   ]
  },
  {
   "cell_type": "code",
   "execution_count": 22,
   "metadata": {},
   "outputs": [
    {
     "name": "stdout",
     "output_type": "stream",
     "text": [
      "Prédiction :\n",
      "\"[1]\"\n",
      "CPU times: user 4.27 ms, sys: 0 ns, total: 4.27 ms\n",
      "Wall time: 1.7 s\n"
     ]
    }
   ],
   "source": [
    "%%time\n",
    "test_data = {\"data\":[[63,0,138,85]]}\n",
    "\n",
    "headers = {'Content-Type':'application/json', 'Authorization':('Bearer '+ rest_service_key)}\n",
    "response = requests.post(rest_service_url, json.dumps(test_data), headers=headers)\n",
    "print('Prédiction :')\n",
    "print(response.text)"
   ]
  },
  {
   "cell_type": "code",
   "execution_count": 23,
   "metadata": {},
   "outputs": [
    {
     "name": "stdout",
     "output_type": "stream",
     "text": [
      "Predictions :\n",
      "\"[0]\"\n",
      "CPU times: user 4.82 ms, sys: 0 ns, total: 4.82 ms\n",
      "Wall time: 1.81 s\n"
     ]
    }
   ],
   "source": [
    "%%time\n",
    "test_data = {\"data\":[[68,1,189,82]]}\n",
    "\n",
    "headers = {'Content-Type':'application/json', 'Authorization':('Bearer '+ rest_service_key)}\n",
    "response = requests.post(rest_service_url, json.dumps(test_data), headers=headers)\n",
    "print('Predictions :')\n",
    "print(response.text)"
   ]
  },
  {
   "cell_type": "markdown",
   "metadata": {},
   "source": [
    "Aller dans le portail Azure pour visualiser les informations de télémétries disponibles depuis AKS"
   ]
  },
  {
   "cell_type": "markdown",
   "metadata": {},
   "source": [
    "> Fin"
   ]
  },
  {
   "cell_type": "code",
   "execution_count": null,
   "metadata": {},
   "outputs": [],
   "source": []
  }
 ],
 "metadata": {
  "kernelspec": {
   "display_name": "Python 3.6 - AzureML",
   "language": "python",
   "name": "python3-azureml"
  },
  "language_info": {
   "codemirror_mode": {
    "name": "ipython",
    "version": 3
   },
   "file_extension": ".py",
   "mimetype": "text/x-python",
   "name": "python",
   "nbconvert_exporter": "python",
   "pygments_lexer": "ipython3",
   "version": "3.6.9"
  }
 },
 "nbformat": 4,
 "nbformat_minor": 2
}
