{
 "cells": [
  {
   "cell_type": "markdown",
   "metadata": {},
   "source": [
    "# 4. Télémétrie AKS"
   ]
  },
  {
   "cell_type": "markdown",
   "metadata": {},
   "source": [
    "<img src='https://github.com/retkowsky/images/blob/master/AzureMLservicebanniere.png?raw=true'>"
   ]
  },
  {
   "cell_type": "markdown",
   "metadata": {},
   "source": [
    "## 1. Informations"
   ]
  },
  {
   "cell_type": "code",
   "execution_count": 1,
   "metadata": {},
   "outputs": [
    {
     "data": {
      "text/plain": [
       "'3.6.9 |Anaconda, Inc.| (default, Jul 30 2019, 19:07:31) \\n[GCC 7.3.0]'"
      ]
     },
     "execution_count": 1,
     "metadata": {},
     "output_type": "execute_result"
    }
   ],
   "source": [
    "import sys\n",
    "sys.version"
   ]
  },
  {
   "cell_type": "code",
   "execution_count": 2,
   "metadata": {},
   "outputs": [
    {
     "name": "stdout",
     "output_type": "stream",
     "text": [
      "2020-03-16 13:10:38.190370\n"
     ]
    }
   ],
   "source": [
    "import datetime\n",
    "now = datetime.datetime.now()\n",
    "print(now)"
   ]
  },
  {
   "cell_type": "code",
   "execution_count": 3,
   "metadata": {},
   "outputs": [
    {
     "name": "stdout",
     "output_type": "stream",
     "text": [
      "Version Azure ML service : 1.0.83\n"
     ]
    }
   ],
   "source": [
    "import azureml.core\n",
    "print(\"Version Azure ML service :\", azureml.core.VERSION)"
   ]
  },
  {
   "cell_type": "code",
   "execution_count": 4,
   "metadata": {},
   "outputs": [],
   "source": [
    "import azureml.core\n",
    "from azureml.core import Workspace\n",
    "from azureml.core.webservice import Webservice\n",
    "from azureml.core.authentication import AzureCliAuthentication\n",
    "import requests\n",
    "import json"
   ]
  },
  {
   "cell_type": "code",
   "execution_count": 5,
   "metadata": {},
   "outputs": [],
   "source": [
    "#Azure subscription\n",
    "subscription_id = \"70b8f39e-8863-49f7-b6ba-34a80799550c\" \n",
    "\n",
    "#Azure resource group \n",
    "resource_group = \"MLOpsworkshopRG\" \n",
    "\n",
    "#Azure ML workspace et région\n",
    "workspace_name = \"MLOpsWorkshop\" \n",
    "workspace_region = \"westeurope\" \n",
    "\n",
    "# Infos endpoint\n",
    "rest_service_name = \"chd-predictor-service\"\n",
    "rest_service_url = \"http://13.77.72.52:80/api/v1/service/chd-predictor-service/score\" \n",
    "rest_service_key = \"1Wj4hBydO5ebD2sQFf1m02LSgGh0BeJA\" "
   ]
  },
  {
   "cell_type": "code",
   "execution_count": 6,
   "metadata": {},
   "outputs": [
    {
     "name": "stdout",
     "output_type": "stream",
     "text": [
      "Workspace configuration succeeded\n"
     ]
    }
   ],
   "source": [
    "ws = Workspace.create(\n",
    "    name = workspace_name,\n",
    "    subscription_id = subscription_id,\n",
    "    resource_group = resource_group, \n",
    "    location = workspace_region,\n",
    "    exist_ok = True)\n",
    "\n",
    "ws.write_config()\n",
    "print('Workspace configuration succeeded')"
   ]
  },
  {
   "cell_type": "markdown",
   "metadata": {},
   "source": [
    "## 2. Call du modèle"
   ]
  },
  {
   "cell_type": "code",
   "execution_count": 20,
   "metadata": {},
   "outputs": [],
   "source": [
    "# Pour tester\n",
    "test_data = {\"data\":[[61, 1, 150],[67, 2, 300]]}"
   ]
  },
  {
   "cell_type": "code",
   "execution_count": 21,
   "metadata": {},
   "outputs": [
    {
     "data": {
      "text/plain": [
       "{'data': [[61, 1, 150], [67, 2, 300]]}"
      ]
     },
     "execution_count": 21,
     "metadata": {},
     "output_type": "execute_result"
    }
   ],
   "source": [
    "test_data"
   ]
  },
  {
   "cell_type": "code",
   "execution_count": 23,
   "metadata": {},
   "outputs": [
    {
     "name": "stdout",
     "output_type": "stream",
     "text": [
      "Prédictions :\n",
      "\"[0, 1]\"\n"
     ]
    }
   ],
   "source": [
    "headers = {'Content-Type':'application/json', 'Authorization':('Bearer '+ rest_service_key)}\n",
    "response = requests.post(rest_service_url, json.dumps(test_data), headers=headers)\n",
    "print('Prédictions :')\n",
    "print(response.text)"
   ]
  },
  {
   "cell_type": "markdown",
   "metadata": {},
   "source": [
    "## 3. Activation télémétrie"
   ]
  },
  {
   "cell_type": "code",
   "execution_count": 24,
   "metadata": {},
   "outputs": [],
   "source": [
    "rest_service = Webservice(ws, rest_service_name)"
   ]
  },
  {
   "cell_type": "code",
   "execution_count": 25,
   "metadata": {},
   "outputs": [],
   "source": [
    "rest_service.update(enable_app_insights=True, collect_model_data=True)"
   ]
  },
  {
   "cell_type": "markdown",
   "metadata": {},
   "source": [
    "## 4. Génération d'appels pour simuler des données de télémétries"
   ]
  },
  {
   "cell_type": "code",
   "execution_count": 28,
   "metadata": {},
   "outputs": [
    {
     "name": "stdout",
     "output_type": "stream",
     "text": [
      "Prédictions :\n",
      "\"[0, 0, 1]\"\n"
     ]
    }
   ],
   "source": [
    "test_data = {\"data\":[[44, 1, 138],[43, 1, 150],[67,1,138]]}\n",
    "\n",
    "headers = {'Content-Type':'application/json', 'Authorization':('Bearer '+ rest_service_key)}\n",
    "response = requests.post(rest_service_url, json.dumps(test_data), headers=headers)\n",
    "print('Prédictions :')\n",
    "print(response.text)"
   ]
  },
  {
   "cell_type": "code",
   "execution_count": 29,
   "metadata": {},
   "outputs": [
    {
     "name": "stdout",
     "output_type": "stream",
     "text": [
      "Prédiction :\n",
      "\"[0]\"\n"
     ]
    }
   ],
   "source": [
    "test_data = {\"data\":[[61, 1, 150]]}\n",
    "\n",
    "headers = {'Content-Type':'application/json', 'Authorization':('Bearer '+ rest_service_key)}\n",
    "response = requests.post(rest_service_url, json.dumps(test_data), headers=headers)\n",
    "print('Prédiction :')\n",
    "print(response.text)"
   ]
  },
  {
   "cell_type": "code",
   "execution_count": 30,
   "metadata": {},
   "outputs": [
    {
     "name": "stdout",
     "output_type": "stream",
     "text": [
      "Prédiction :\n",
      "\"[0]\"\n"
     ]
    }
   ],
   "source": [
    "test_data = {\"data\":[[43, 1, 180]]}\n",
    "\n",
    "headers = {'Content-Type':'application/json', 'Authorization':('Bearer '+ rest_service_key)}\n",
    "response = requests.post(rest_service_url, json.dumps(test_data), headers=headers)\n",
    "print('Prédiction :')\n",
    "print(response.text)"
   ]
  },
  {
   "cell_type": "code",
   "execution_count": 31,
   "metadata": {},
   "outputs": [
    {
     "name": "stdout",
     "output_type": "stream",
     "text": [
      "Prédiction :\n",
      "\"[1]\"\n"
     ]
    }
   ],
   "source": [
    "test_data = {\"data\":[[67,1,138]]}\n",
    "\n",
    "headers = {'Content-Type':'application/json', 'Authorization':('Bearer '+ rest_service_key)}\n",
    "response = requests.post(rest_service_url, json.dumps(test_data), headers=headers)\n",
    "print('Prédiction :')\n",
    "print(response.text)"
   ]
  },
  {
   "cell_type": "code",
   "execution_count": 32,
   "metadata": {},
   "outputs": [
    {
     "name": "stdout",
     "output_type": "stream",
     "text": [
      "Predictions :\n",
      "\"[1]\"\n"
     ]
    }
   ],
   "source": [
    "test_data = {\"data\":[[68,1,189]]}\n",
    "\n",
    "headers = {'Content-Type':'application/json', 'Authorization':('Bearer '+ rest_service_key)}\n",
    "response = requests.post(rest_service_url, json.dumps(test_data), headers=headers)\n",
    "print('Predictions :')\n",
    "print(response.text)"
   ]
  },
  {
   "cell_type": "markdown",
   "metadata": {},
   "source": [
    "Aller dans le portail Azure pour visualiser les informations de télémétries disponibles depuis AKS"
   ]
  },
  {
   "cell_type": "markdown",
   "metadata": {},
   "source": [
    "## 5. Infos service"
   ]
  },
  {
   "cell_type": "code",
   "execution_count": 38,
   "metadata": {},
   "outputs": [
    {
     "name": "stdout",
     "output_type": "stream",
     "text": [
      "Etat :  Healthy\n"
     ]
    }
   ],
   "source": [
    "print(\"Etat : \", rest_service.state)"
   ]
  },
  {
   "cell_type": "code",
   "execution_count": 39,
   "metadata": {},
   "outputs": [
    {
     "name": "stdout",
     "output_type": "stream",
     "text": [
      "Endpoint :  http://13.77.72.52:80/api/v1/service/chd-predictor-service/score\n"
     ]
    }
   ],
   "source": [
    "print(\"Endpoint : \", rest_service.scoring_uri)"
   ]
  },
  {
   "cell_type": "code",
   "execution_count": 36,
   "metadata": {},
   "outputs": [
    {
     "data": {
      "text/plain": [
       "'2020-03-12T13:34:44,500905616+00:00 - gunicorn/run \\n2020-03-12T13:34:44,500042511+00:00 - iot-server/run \\n2020-03-12T13:34:44,501077817+00:00 - rsyslog/run \\n2020-03-12T13:34:44,503254627+00:00 - nginx/run \\nEdgeHubConnectionString and IOTEDGE_IOTHUBHOSTNAME are not set. Exiting...\\n2020-03-12T13:34:44,577354497+00:00 - iot-server/finish 1 0\\n2020-03-12T13:34:44,578465503+00:00 - Exit code 1 is normal. Not restarting iot-server.\\nStarting gunicorn 19.6.0\\nListening at: http://127.0.0.1:31311 (10)\\nUsing worker: sync\\nworker timeout is set to 300\\nBooting worker with pid: 47\\nInitializing logger\\nStarting up app insights client\\nStarting up request id generator\\nStarting up app insight hooks\\nInvoking user\\'s init function\\nLooking for model path for model:\\nchd-predictor\\nLoading model from:\\nazureml-models/chd-predictor/2/chd-rf-model\\nModel loaded from disk.\\n\\'RandomForestClassifier\\' object has no attribute \\'summary\\'\\nUsers\\'s init has completed successfully\\nSkipping middleware: dbg_model_info as it\\'s not enabled.\\nScoring timeout setting is not found. Use default timeout: 3600000 ms\\nSwagger file not present\\n404\\n127.0.0.1 - - [12/Mar/2020:13:54:24 +0000] \"GET /swagger.json HTTP/1.0\" 404 19 \"-\" \"-\"\\nValidation Request Content-Type\\nReceived input: {\"data\": [[61, 1, 150, 103], [43, 1, 180, 99]]}\\nHeaders passed in (total 11):\\n\\tHost: 13.77.72.52\\n\\tX-Real-Ip: 10.244.1.3\\n\\tX-Forwarded-For: 10.244.1.3\\n\\tX-Forwarded-Proto: http\\n\\tConnection: close\\n\\tContent-Length: 47\\n\\tUser-Agent: python-requests/2.22.0\\n\\tContent-Type: application/json\\n\\tAccept-Encoding: gzip, deflate\\n\\tAccept: */*\\n\\tX-Ms-Request-Id: efe3d535-49ab-44a3-af2b-020e214fd2d5\\nScoring Timer is set to 3600.0 seconds\\nReceived input:\\n{\"data\": [[61, 1, 150, 103], [43, 1, 180, 99]]}\\nERROR: Number of features of the model must match the input. Model n_features is 3 and input n_features is 4  13:55:47\\n200\\n127.0.0.1 - - [12/Mar/2020:13:55:47 +0000] \"POST /score HTTP/1.0\" 200 104 \"-\" \"python-requests/2.22.0\"\\nValidation Request Content-Type\\nReceived input: {\"data\": [[61, 1, 150], [43, 1, 180]]}\\nHeaders passed in (total 11):\\n\\tHost: 13.77.72.52\\n\\tX-Real-Ip: 10.244.0.9\\n\\tX-Forwarded-For: 10.244.0.9\\n\\tX-Forwarded-Proto: http\\n\\tConnection: close\\n\\tContent-Length: 38\\n\\tUser-Agent: python-requests/2.22.0\\n\\tContent-Type: application/json\\n\\tAccept-Encoding: gzip, deflate\\n\\tAccept: */*\\n\\tX-Ms-Request-Id: b0604d0b-8ceb-4332-85a8-48c9c3b19ce9\\nScoring Timer is set to 3600.0 seconds\\nReceived input:\\n{\"data\": [[61, 1, 150], [43, 1, 180]]}\\nPrediction created 13:56:23\\n200\\n127.0.0.1 - - [12/Mar/2020:13:56:23 +0000] \"POST /score HTTP/1.0\" 200 8 \"-\" \"python-requests/2.22.0\"\\nValidation Request Content-Type\\nReceived input: {\"data\": [[61, 1, 150], [43, 1, 100]]}\\nHeaders passed in (total 11):\\n\\tHost: 13.77.72.52\\n\\tX-Real-Ip: 10.244.0.9\\n\\tX-Forwarded-For: 10.244.0.9\\n\\tX-Forwarded-Proto: http\\n\\tConnection: close\\n\\tContent-Length: 38\\n\\tUser-Agent: python-requests/2.22.0\\n\\tContent-Type: application/json\\n\\tAccept-Encoding: gzip, deflate\\n\\tAccept: */*\\n\\tX-Ms-Request-Id: f8b84b8c-d9a7-4fae-b18c-6856c5b81e9f\\nScoring Timer is set to 3600.0 seconds\\nReceived input:\\n{\"data\": [[61, 1, 150], [43, 1, 100]]}\\nPrediction created 13:56:33\\n200\\n127.0.0.1 - - [12/Mar/2020:13:56:33 +0000] \"POST /score HTTP/1.0\" 200 8 \"-\" \"python-requests/2.22.0\"\\nValidation Request Content-Type\\nReceived input: {\"data\": [[61, 1, 150, 103], [43, 1, 180, 99]]}\\nHeaders passed in (total 11):\\n\\tHost: 13.77.72.52\\n\\tX-Real-Ip: 10.244.0.9\\n\\tX-Forwarded-For: 10.244.0.9\\n\\tX-Forwarded-Proto: http\\n\\tConnection: close\\n\\tContent-Length: 47\\n\\tUser-Agent: python-requests/2.22.0\\n\\tContent-Type: application/json\\n\\tAccept-Encoding: gzip, deflate\\n\\tAccept: */*\\n\\tX-Ms-Request-Id: 8748f5ca-3e22-4055-9bb6-be69475a4a23\\nScoring Timer is set to 3600.0 seconds\\nReceived input:\\n{\"data\": [[61, 1, 150, 103], [43, 1, 180, 99]]}\\nERROR: Number of features of the model must match the input. Model n_features is 3 and input n_features is 4  13:57:37\\n200\\n127.0.0.1 - - [12/Mar/2020:13:57:37 +0000] \"POST /score HTTP/1.0\" 200 104 \"-\" \"python-requests/2.22.0\"\\nValidation Request Content-Type\\nReceived input: {\"data\": [[61, 1, 150], [43, 1, 180]]}\\nHeaders passed in (total 11):\\n\\tHost: 13.77.72.52\\n\\tX-Real-Ip: 10.244.2.3\\n\\tX-Forwarded-For: 10.244.2.3\\n\\tX-Forwarded-Proto: http\\n\\tConnection: close\\n\\tContent-Length: 38\\n\\tUser-Agent: python-requests/2.22.0\\n\\tContent-Type: application/json\\n\\tAccept-Encoding: gzip, deflate\\n\\tAccept: */*\\n\\tX-Ms-Request-Id: 82657367-7e44-4b5e-84b5-bdecb2d057e3\\nScoring Timer is set to 3600.0 seconds\\nReceived input:\\n{\"data\": [[61, 1, 150], [43, 1, 180]]}\\nPrediction created 13:57:47\\n200\\n127.0.0.1 - - [12/Mar/2020:13:57:47 +0000] \"POST /score HTTP/1.0\" 200 8 \"-\" \"python-requests/2.22.0\"\\nValidation Request Content-Type\\nReceived input: {\"data\": [[61, 1, 150], [43, 1, 180, 99], [63, 0, 138]]}\\nHeaders passed in (total 11):\\n\\tHost: 13.77.72.52\\n\\tX-Real-Ip: 10.244.1.3\\n\\tX-Forwarded-For: 10.244.1.3\\n\\tX-Forwarded-Proto: http\\n\\tConnection: close\\n\\tContent-Length: 56\\n\\tUser-Agent: python-requests/2.22.0\\n\\tContent-Type: application/json\\n\\tAccept-Encoding: gzip, deflate\\n\\tAccept: */*\\n\\tX-Ms-Request-Id: 04f9a7bd-2667-492c-bced-25f0a2a90d7e\\nScoring Timer is set to 3600.0 seconds\\nReceived input:\\n{\"data\": [[61, 1, 150], [43, 1, 180, 99], [63, 0, 138]]}\\nERROR: setting an array element with a sequence. 13:57:57\\n200\\n127.0.0.1 - - [12/Mar/2020:13:57:57 +0000] \"POST /score HTTP/1.0\" 200 43 \"-\" \"python-requests/2.22.0\"\\nValidation Request Content-Type\\nReceived input: {\"data\": [[61, 1, 150], [43, 1, 180], [63, 0, 138]]}\\nHeaders passed in (total 11):\\n\\tHost: 13.77.72.52\\n\\tX-Real-Ip: 10.244.1.3\\n\\tX-Forwarded-For: 10.244.1.3\\n\\tX-Forwarded-Proto: http\\n\\tConnection: close\\n\\tContent-Length: 52\\n\\tUser-Agent: python-requests/2.22.0\\n\\tContent-Type: application/json\\n\\tAccept-Encoding: gzip, deflate\\n\\tAccept: */*\\n\\tX-Ms-Request-Id: 472851bd-d75a-46d1-b502-2ad202b825f9\\nScoring Timer is set to 3600.0 seconds\\nReceived input:\\n{\"data\": [[61, 1, 150], [43, 1, 180], [63, 0, 138]]}\\nPrediction created 13:58:04\\n200\\n127.0.0.1 - - [12/Mar/2020:13:58:05 +0000] \"POST /score HTTP/1.0\" 200 11 \"-\" \"python-requests/2.22.0\"\\nValidation Request Content-Type\\nReceived input: {\"data\": [[61, 1, 150], [43, 1, 180], [63, 0, 138]]}\\nHeaders passed in (total 11):\\n\\tHost: 13.77.72.52\\n\\tX-Real-Ip: 10.244.0.9\\n\\tX-Forwarded-For: 10.244.0.9\\n\\tX-Forwarded-Proto: http\\n\\tConnection: close\\n\\tContent-Length: 52\\n\\tUser-Agent: python-requests/2.22.0\\n\\tContent-Type: application/json\\n\\tAccept-Encoding: gzip, deflate\\n\\tAccept: */*\\n\\tX-Ms-Request-Id: 623867dc-5453-41af-910a-c80b9d0f6adf\\nScoring Timer is set to 3600.0 seconds\\nReceived input:\\n{\"data\": [[61, 1, 150], [43, 1, 180], [63, 0, 138]]}\\nPrediction created 13:58:08\\n200\\n127.0.0.1 - - [12/Mar/2020:13:58:08 +0000] \"POST /score HTTP/1.0\" 200 11 \"-\" \"python-requests/2.22.0\"\\nValidation Request Content-Type\\nReceived input: {\"data\": [[61, 1, 150]]}\\nHeaders passed in (total 11):\\n\\tHost: 13.77.72.52\\n\\tX-Real-Ip: 10.244.2.3\\n\\tX-Forwarded-For: 10.244.2.3\\n\\tX-Forwarded-Proto: http\\n\\tConnection: close\\n\\tContent-Length: 24\\n\\tUser-Agent: python-requests/2.22.0\\n\\tContent-Type: application/json\\n\\tAccept-Encoding: gzip, deflate\\n\\tAccept: */*\\n\\tX-Ms-Request-Id: 415c5f2d-53b5-493f-bbc2-df2b5162cb46\\nScoring Timer is set to 3600.0 seconds\\nReceived input:\\n{\"data\": [[61, 1, 150]]}\\nPrediction created 13:58:16\\n200\\n127.0.0.1 - - [12/Mar/2020:13:58:16 +0000] \"POST /score HTTP/1.0\" 200 5 \"-\" \"python-requests/2.22.0\"\\nValidation Request Content-Type\\nReceived input: {\"data\": [[63, 0, 138]]}\\nHeaders passed in (total 11):\\n\\tHost: 13.77.72.52\\n\\tX-Real-Ip: 10.244.0.9\\n\\tX-Forwarded-For: 10.244.0.9\\n\\tX-Forwarded-Proto: http\\n\\tConnection: close\\n\\tContent-Length: 24\\n\\tUser-Agent: python-requests/2.22.0\\n\\tContent-Type: application/json\\n\\tAccept-Encoding: gzip, deflate\\n\\tAccept: */*\\n\\tX-Ms-Request-Id: 435ed17a-848c-4629-b98a-94d610ad424f\\nScoring Timer is set to 3600.0 seconds\\nReceived input:\\n{\"data\": [[63, 0, 138]]}\\nPrediction created 13:58:38\\n200\\n127.0.0.1 - - [12/Mar/2020:13:58:38 +0000] \"POST /score HTTP/1.0\" 200 5 \"-\" \"python-requests/2.22.0\"\\nValidation Request Content-Type\\nReceived input: {\"data\": [[68, 1, 189]]}\\nHeaders passed in (total 11):\\n\\tHost: 13.77.72.52\\n\\tX-Real-Ip: 10.244.2.3\\n\\tX-Forwarded-For: 10.244.2.3\\n\\tX-Forwarded-Proto: http\\n\\tConnection: close\\n\\tContent-Length: 24\\n\\tUser-Agent: python-requests/2.22.0\\n\\tContent-Type: application/json\\n\\tAccept-Encoding: gzip, deflate\\n\\tAccept: */*\\n\\tX-Ms-Request-Id: 06e69ed3-0e07-4bfb-97af-4f9b643e3301\\nScoring Timer is set to 3600.0 seconds\\nReceived input:\\n{\"data\": [[68, 1, 189]]}\\nPrediction created 13:58:51\\n200\\n127.0.0.1 - - [12/Mar/2020:13:58:51 +0000] \"POST /score HTTP/1.0\" 200 5 \"-\" \"python-requests/2.22.0\"\\nValidation Request Content-Type\\nReceived input: {\"data\": [[67, 1, 138]]}\\nHeaders passed in (total 11):\\n\\tHost: 13.77.72.52\\n\\tX-Real-Ip: 10.244.1.3\\n\\tX-Forwarded-For: 10.244.1.3\\n\\tX-Forwarded-Proto: http\\n\\tConnection: close\\n\\tContent-Length: 24\\n\\tUser-Agent: python-requests/2.22.0\\n\\tContent-Type: application/json\\n\\tAccept-Encoding: gzip, deflate\\n\\tAccept: */*\\n\\tX-Ms-Request-Id: 40445b11-dce9-4ea4-a0b0-6f14eebec79b\\nScoring Timer is set to 3600.0 seconds\\nReceived input:\\n{\"data\": [[67, 1, 138]]}\\nPrediction created 13:59:10\\n200\\n127.0.0.1 - - [12/Mar/2020:13:59:10 +0000] \"POST /score HTTP/1.0\" 200 5 \"-\" \"python-requests/2.22.0\"\\nValidation Request Content-Type\\nReceived input: {\"data\": [[61, 1, 138], [43, 1, 180], [63, 0, 138]]}\\nHeaders passed in (total 11):\\n\\tHost: 13.77.72.52\\n\\tX-Real-Ip: 10.244.1.3\\n\\tX-Forwarded-For: 10.244.1.3\\n\\tX-Forwarded-Proto: http\\n\\tConnection: close\\n\\tContent-Length: 52\\n\\tUser-Agent: python-requests/2.22.0\\n\\tContent-Type: application/json\\n\\tAccept-Encoding: gzip, deflate\\n\\tAccept: */*\\n\\tX-Ms-Request-Id: f70d1543-2c41-41c6-aaf6-5d45f8ad36d7\\nScoring Timer is set to 3600.0 seconds\\nReceived input:\\n{\"data\": [[61, 1, 138], [43, 1, 180], [63, 0, 138]]}\\nPrediction created 13:59:27\\n200\\n127.0.0.1 - - [12/Mar/2020:13:59:27 +0000] \"POST /score HTTP/1.0\" 200 11 \"-\" \"python-requests/2.22.0\"\\nValidation Request Content-Type\\nReceived input: {\"data\": [[61, 1, 138], [43, 1, 150], [63, 0, 100]]}\\nHeaders passed in (total 11):\\n\\tHost: 13.77.72.52\\n\\tX-Real-Ip: 10.244.2.3\\n\\tX-Forwarded-For: 10.244.2.3\\n\\tX-Forwarded-Proto: http\\n\\tConnection: close\\n\\tContent-Length: 52\\n\\tUser-Agent: python-requests/2.22.0\\n\\tContent-Type: application/json\\n\\tAccept-Encoding: gzip, deflate\\n\\tAccept: */*\\n\\tX-Ms-Request-Id: 41eb66d0-30b1-4f7e-9553-eab34ea0e040\\nScoring Timer is set to 3600.0 seconds\\nReceived input:\\n{\"data\": [[61, 1, 138], [43, 1, 150], [63, 0, 100]]}\\nPrediction created 13:59:40\\n200\\n127.0.0.1 - - [12/Mar/2020:13:59:40 +0000] \"POST /score HTTP/1.0\" 200 11 \"-\" \"python-requests/2.22.0\"\\nValidation Request Content-Type\\nReceived input: {\"data\": [[61, 1, 138], [43, 1, 150], [63, 0, 100]]}\\nHeaders passed in (total 11):\\n\\tHost: 13.77.72.52\\n\\tX-Real-Ip: 10.244.2.3\\n\\tX-Forwarded-For: 10.244.2.3\\n\\tX-Forwarded-Proto: http\\n\\tConnection: close\\n\\tContent-Length: 52\\n\\tUser-Agent: python-requests/2.22.0\\n\\tContent-Type: application/json\\n\\tAccept-Encoding: gzip, deflate\\n\\tAccept: */*\\n\\tX-Ms-Request-Id: e78c251e-4041-45fb-b6dd-c543e9c9cb36\\nScoring Timer is set to 3600.0 seconds\\nReceived input:\\n{\"data\": [[61, 1, 138], [43, 1, 150], [63, 0, 100]]}\\nPrediction created 13:59:44\\n200\\n127.0.0.1 - - [12/Mar/2020:13:59:44 +0000] \"POST /score HTTP/1.0\" 200 11 \"-\" \"python-requests/2.22.0\"\\nValidation Request Content-Type\\nReceived input: {\"data\": [[61, 1, 138], [43, 1, 150], [67, 1, 138]]}\\nHeaders passed in (total 11):\\n\\tHost: 13.77.72.52\\n\\tX-Real-Ip: 10.244.2.3\\n\\tX-Forwarded-For: 10.244.2.3\\n\\tX-Forwarded-Proto: http\\n\\tConnection: close\\n\\tContent-Length: 52\\n\\tUser-Agent: python-requests/2.22.0\\n\\tContent-Type: application/json\\n\\tAccept-Encoding: gzip, deflate\\n\\tAccept: */*\\n\\tX-Ms-Request-Id: 2e87492c-6024-4465-909f-fdc42b3c00da\\nScoring Timer is set to 3600.0 seconds\\nReceived input:\\n{\"data\": [[61, 1, 138], [43, 1, 150], [67, 1, 138]]}\\nPrediction created 13:59:55\\n200\\n127.0.0.1 - - [12/Mar/2020:13:59:55 +0000] \"POST /score HTTP/1.0\" 200 11 \"-\" \"python-requests/2.22.0\"\\nValidation Request Content-Type\\nReceived input: {\"data\": [[44, 1, 138], [43, 1, 150], [67, 1, 138]]}\\nHeaders passed in (total 11):\\n\\tHost: 13.77.72.52\\n\\tX-Real-Ip: 10.244.1.3\\n\\tX-Forwarded-For: 10.244.1.3\\n\\tX-Forwarded-Proto: http\\n\\tConnection: close\\n\\tContent-Length: 52\\n\\tUser-Agent: python-requests/2.22.0\\n\\tContent-Type: application/json\\n\\tAccept-Encoding: gzip, deflate\\n\\tAccept: */*\\n\\tX-Ms-Request-Id: ab1266e3-671f-4bf8-94a3-6b7b7da01ce5\\nScoring Timer is set to 3600.0 seconds\\nReceived input:\\n{\"data\": [[44, 1, 138], [43, 1, 150], [67, 1, 138]]}\\nPrediction created 14:00:05\\n200\\n127.0.0.1 - - [12/Mar/2020:14:00:05 +0000] \"POST /score HTTP/1.0\" 200 11 \"-\" \"python-requests/2.22.0\"\\nValidation Request Content-Type\\nReceived input: {\"data\": [[44, 1, 138], [43, 1, 150], [67, 1, 138]]}\\nHeaders passed in (total 11):\\n\\tHost: 13.77.72.52\\n\\tX-Real-Ip: 10.244.2.3\\n\\tX-Forwarded-For: 10.244.2.3\\n\\tX-Forwarded-Proto: http\\n\\tConnection: close\\n\\tContent-Length: 52\\n\\tUser-Agent: python-requests/2.22.0\\n\\tContent-Type: application/json\\n\\tAccept-Encoding: gzip, deflate\\n\\tAccept: */*\\n\\tX-Ms-Request-Id: 7849a913-5fc1-4d78-8ef5-4935c14fa145\\nScoring Timer is set to 3600.0 seconds\\nReceived input:\\n{\"data\": [[44, 1, 138], [43, 1, 150], [67, 1, 138]]}\\nPrediction created 14:00:09\\n200\\n127.0.0.1 - - [12/Mar/2020:14:00:09 +0000] \"POST /score HTTP/1.0\" 200 11 \"-\" \"python-requests/2.22.0\"\\nValidation Request Content-Type\\nReceived input: {\"data\": [[44, 1, 138], [43, 1, 150], [67, 1, 138]]}\\nHeaders passed in (total 11):\\n\\tHost: 13.77.72.52\\n\\tX-Real-Ip: 10.244.2.3\\n\\tX-Forwarded-For: 10.244.2.3\\n\\tX-Forwarded-Proto: http\\n\\tConnection: close\\n\\tContent-Length: 52\\n\\tUser-Agent: python-requests/2.22.0\\n\\tContent-Type: application/json\\n\\tAccept-Encoding: gzip, deflate\\n\\tAccept: */*\\n\\tX-Ms-Request-Id: 3967bb24-920e-4075-a23c-6afa9b620381\\nScoring Timer is set to 3600.0 seconds\\nReceived input:\\n{\"data\": [[44, 1, 138], [43, 1, 150], [67, 1, 138]]}\\nPrediction created 14:00:32\\n200\\n127.0.0.1 - - [12/Mar/2020:14:00:32 +0000] \"POST /score HTTP/1.0\" 200 11 \"-\" \"python-requests/2.22.0\"\\nValidation Request Content-Type\\nReceived input: {\"data\": [[11, 1, 150], [67, 1, 138]]}\\nHeaders passed in (total 11):\\n\\tHost: 13.77.72.52\\n\\tX-Real-Ip: 10.244.0.9\\n\\tX-Forwarded-For: 10.244.0.9\\n\\tX-Forwarded-Proto: http\\n\\tConnection: close\\n\\tContent-Length: 38\\n\\tUser-Agent: python-requests/2.22.0\\n\\tContent-Type: application/json\\n\\tAccept-Encoding: gzip, deflate\\n\\tAccept: */*\\n\\tX-Ms-Request-Id: 0d31d94b-9960-41ee-80e1-00adab6d1271\\nScoring Timer is set to 3600.0 seconds\\nReceived input:\\n{\"data\": [[11, 1, 150], [67, 1, 138]]}\\nPrediction created 14:00:51\\n200\\n127.0.0.1 - - [12/Mar/2020:14:00:51 +0000] \"POST /score HTTP/1.0\" 200 8 \"-\" \"python-requests/2.22.0\"\\nSwagger file not present\\n404\\n127.0.0.1 - - [16/Mar/2020:06:00:12 +0000] \"GET /swagger.json HTTP/1.0\" 404 19 \"-\" \"-\"\\nValidation Request Content-Type\\nReceived input: {\"data\": [[11, 1, 150], [67, 1, 138]]}\\nHeaders passed in (total 11):\\n\\tHost: 13.77.72.52\\n\\tX-Real-Ip: 10.244.1.3\\n\\tX-Forwarded-For: 10.244.1.3\\n\\tX-Forwarded-Proto: http\\n\\tConnection: close\\n\\tContent-Length: 38\\n\\tUser-Agent: python-requests/2.22.0\\n\\tContent-Type: application/json\\n\\tAccept-Encoding: gzip, deflate\\n\\tAccept: */*\\n\\tX-Ms-Request-Id: 8d1f0ef5-adad-4dbb-9c71-cf7b7ba9ee34\\nScoring Timer is set to 3600.0 seconds\\nReceived input:\\n{\"data\": [[11, 1, 150], [67, 1, 138]]}\\nPrediction created 13:03:58\\n200\\n127.0.0.1 - - [16/Mar/2020:13:03:58 +0000] \"POST /score HTTP/1.0\" 200 8 \"-\" \"python-requests/2.22.0\"\\nValidation Request Content-Type\\nReceived input: {\"data\": [[11, 1, 150], [67, 1, 138]]}\\nHeaders passed in (total 11):\\n\\tHost: 13.77.72.52\\n\\tX-Real-Ip: 10.244.2.3\\n\\tX-Forwarded-For: 10.244.2.3\\n\\tX-Forwarded-Proto: http\\n\\tConnection: close\\n\\tContent-Length: 38\\n\\tUser-Agent: python-requests/2.22.0\\n\\tContent-Type: application/json\\n\\tAccept-Encoding: gzip, deflate\\n\\tAccept: */*\\n\\tX-Ms-Request-Id: d11a669e-9f65-4b82-8cd1-44a2e410d1d6\\nScoring Timer is set to 3600.0 seconds\\nReceived input:\\n{\"data\": [[11, 1, 150], [67, 1, 138]]}\\nPrediction created 13:09:08\\n200\\n127.0.0.1 - - [16/Mar/2020:13:09:08 +0000] \"POST /score HTTP/1.0\" 200 8 \"-\" \"python-requests/2.22.0\"\\nValidation Request Content-Type\\nReceived input: {\"data\": [[11, 1, 150], [67, 1, 138]]}\\nHeaders passed in (total 11):\\n\\tHost: 13.77.72.52\\n\\tX-Real-Ip: 10.244.0.9\\n\\tX-Forwarded-For: 10.244.0.9\\n\\tX-Forwarded-Proto: http\\n\\tConnection: close\\n\\tContent-Length: 38\\n\\tUser-Agent: python-requests/2.22.0\\n\\tContent-Type: application/json\\n\\tAccept-Encoding: gzip, deflate\\n\\tAccept: */*\\n\\tX-Ms-Request-Id: 0b11b5d6-656d-43f5-9454-f99347e0be29\\nScoring Timer is set to 3600.0 seconds\\nReceived input:\\n{\"data\": [[11, 1, 150], [67, 1, 138]]}\\nPrediction created 13:09:31\\n200\\n127.0.0.1 - - [16/Mar/2020:13:09:31 +0000] \"POST /score HTTP/1.0\" 200 8 \"-\" \"python-requests/2.22.0\"\\nValidation Request Content-Type\\nReceived input: {\"data\": [[11, 1, 150], [67, 1, 138]]}\\nHeaders passed in (total 11):\\n\\tHost: 13.77.72.52\\n\\tX-Real-Ip: 10.244.2.3\\n\\tX-Forwarded-For: 10.244.2.3\\n\\tX-Forwarded-Proto: http\\n\\tConnection: close\\n\\tContent-Length: 38\\n\\tUser-Agent: python-requests/2.22.0\\n\\tContent-Type: application/json\\n\\tAccept-Encoding: gzip, deflate\\n\\tAccept: */*\\n\\tX-Ms-Request-Id: 5071c781-e899-4d53-bb43-8f24297f7acd\\nScoring Timer is set to 3600.0 seconds\\nReceived input:\\n{\"data\": [[11, 1, 150], [67, 1, 138]]}\\nPrediction created 13:09:40\\n200\\n127.0.0.1 - - [16/Mar/2020:13:09:40 +0000] \"POST /score HTTP/1.0\" 200 8 \"-\" \"python-requests/2.22.0\"\\nValidation Request Content-Type\\nReceived input: {\"data\": [[61, 1, 150], [43, 1, 180]]}\\nHeaders passed in (total 11):\\n\\tHost: 13.77.72.52\\n\\tX-Real-Ip: 10.244.2.3\\n\\tX-Forwarded-For: 10.244.2.3\\n\\tX-Forwarded-Proto: http\\n\\tConnection: close\\n\\tContent-Length: 38\\n\\tUser-Agent: python-requests/2.22.0\\n\\tContent-Type: application/json\\n\\tAccept-Encoding: gzip, deflate\\n\\tAccept: */*\\n\\tX-Ms-Request-Id: 68d257c5-4232-44fd-83b3-bcf4c78c9916\\nScoring Timer is set to 3600.0 seconds\\nReceived input:\\n{\"data\": [[61, 1, 150], [43, 1, 180]]}\\nPrediction created 13:10:43\\n200\\n127.0.0.1 - - [16/Mar/2020:13:10:43 +0000] \"POST /score HTTP/1.0\" 200 8 \"-\" \"python-requests/2.22.0\"\\nValidation Request Content-Type\\nReceived input: {\"data\": [[61, 1, 150], [43, 1, 180]]}\\nHeaders passed in (total 11):\\n\\tHost: 13.77.72.52\\n\\tX-Real-Ip: 10.244.0.9\\n\\tX-Forwarded-For: 10.244.0.9\\n\\tX-Forwarded-Proto: http\\n\\tConnection: close\\n\\tContent-Length: 38\\n\\tUser-Agent: python-requests/2.22.0\\n\\tContent-Type: application/json\\n\\tAccept-Encoding: gzip, deflate\\n\\tAccept: */*\\n\\tX-Ms-Request-Id: 5735a3d6-3264-4f78-ab18-d393591b4ae6\\nScoring Timer is set to 3600.0 seconds\\nReceived input:\\n{\"data\": [[61, 1, 150], [43, 1, 180]]}\\nPrediction created 13:10:59\\n200\\n127.0.0.1 - - [16/Mar/2020:13:10:59 +0000] \"POST /score HTTP/1.0\" 200 8 \"-\" \"python-requests/2.22.0\"\\nValidation Request Content-Type\\nReceived input: {\"data\": [[61, 1, 150], [43, 1, 300]]}\\nHeaders passed in (total 11):\\n\\tHost: 13.77.72.52\\n\\tX-Real-Ip: 10.244.1.3\\n\\tX-Forwarded-For: 10.244.1.3\\n\\tX-Forwarded-Proto: http\\n\\tConnection: close\\n\\tContent-Length: 38\\n\\tUser-Agent: python-requests/2.22.0\\n\\tContent-Type: application/json\\n\\tAccept-Encoding: gzip, deflate\\n\\tAccept: */*\\n\\tX-Ms-Request-Id: 6a107cfe-d8cc-4293-9603-49148a24869b\\nScoring Timer is set to 3600.0 seconds\\nReceived input:\\n{\"data\": [[61, 1, 150], [43, 1, 300]]}\\nPrediction created 13:11:16\\n200\\n127.0.0.1 - - [16/Mar/2020:13:11:16 +0000] \"POST /score HTTP/1.0\" 200 8 \"-\" \"python-requests/2.22.0\"\\nValidation Request Content-Type\\nReceived input: {\"data\": [[61, 1, 150], [67, 2, 300]]}\\nHeaders passed in (total 11):\\n\\tHost: 13.77.72.52\\n\\tX-Real-Ip: 10.244.1.3\\n\\tX-Forwarded-For: 10.244.1.3\\n\\tX-Forwarded-Proto: http\\n\\tConnection: close\\n\\tContent-Length: 38\\n\\tUser-Agent: python-requests/2.22.0\\n\\tContent-Type: application/json\\n\\tAccept-Encoding: gzip, deflate\\n\\tAccept: */*\\n\\tX-Ms-Request-Id: 6c5c1d0b-9448-4d79-9159-f8d137593d11\\nScoring Timer is set to 3600.0 seconds\\nReceived input:\\n{\"data\": [[61, 1, 150], [67, 2, 300]]}\\nPrediction created 13:11:34\\n200\\n127.0.0.1 - - [16/Mar/2020:13:11:34 +0000] \"POST /score HTTP/1.0\" 200 8 \"-\" \"python-requests/2.22.0\"\\nValidation Request Content-Type\\nReceived input: {\"data\": [[44, 1, 138], [43, 1, 150], [67, 1, 138]]}\\nHeaders passed in (total 11):\\n\\tHost: 13.77.72.52\\n\\tX-Real-Ip: 10.244.1.3\\n\\tX-Forwarded-For: 10.244.1.3\\n\\tX-Forwarded-Proto: http\\n\\tConnection: close\\n\\tContent-Length: 52\\n\\tUser-Agent: python-requests/2.22.0\\n\\tContent-Type: application/json\\n\\tAccept-Encoding: gzip, deflate\\n\\tAccept: */*\\n\\tX-Ms-Request-Id: 8623d08d-4969-4b7a-af43-3cf5534a466a\\nScoring Timer is set to 3600.0 seconds\\nReceived input:\\n{\"data\": [[44, 1, 138], [43, 1, 150], [67, 1, 138]]}\\nPrediction created 13:12:01\\n200\\n127.0.0.1 - - [16/Mar/2020:13:12:01 +0000] \"POST /score HTTP/1.0\" 200 11 \"-\" \"python-requests/2.22.0\"\\nValidation Request Content-Type\\nReceived input: {\"data\": [[44, 1, 138], [43, 1, 150], [67, 1, 138]]}\\nHeaders passed in (total 11):\\n\\tHost: 13.77.72.52\\n\\tX-Real-Ip: 10.244.2.3\\n\\tX-Forwarded-For: 10.244.2.3\\n\\tX-Forwarded-Proto: http\\n\\tConnection: close\\n\\tContent-Length: 52\\n\\tUser-Agent: python-requests/2.22.0\\n\\tContent-Type: application/json\\n\\tAccept-Encoding: gzip, deflate\\n\\tAccept: */*\\n\\tX-Ms-Request-Id: e0c3f91d-8048-4e9d-b380-d7d48292e004\\nScoring Timer is set to 3600.0 seconds\\nReceived input:\\n{\"data\": [[44, 1, 138], [43, 1, 150], [67, 1, 138]]}\\nPrediction created 13:12:07\\n200\\n127.0.0.1 - - [16/Mar/2020:13:12:07 +0000] \"POST /score HTTP/1.0\" 200 11 \"-\" \"python-requests/2.22.0\"\\nValidation Request Content-Type\\nReceived input: {\"data\": [[43, 1, 180]]}\\nHeaders passed in (total 11):\\n\\tHost: 13.77.72.52\\n\\tX-Real-Ip: 10.244.0.9\\n\\tX-Forwarded-For: 10.244.0.9\\n\\tX-Forwarded-Proto: http\\n\\tConnection: close\\n\\tContent-Length: 24\\n\\tUser-Agent: python-requests/2.22.0\\n\\tContent-Type: application/json\\n\\tAccept-Encoding: gzip, deflate\\n\\tAccept: */*\\n\\tX-Ms-Request-Id: 660a7bb4-c7f6-4a77-8889-de6e0014d1e0\\nScoring Timer is set to 3600.0 seconds\\nReceived input:\\n{\"data\": [[43, 1, 180]]}\\nPrediction created 13:12:10\\n200\\n127.0.0.1 - - [16/Mar/2020:13:12:10 +0000] \"POST /score HTTP/1.0\" 200 5 \"-\" \"python-requests/2.22.0\"\\nValidation Request Content-Type\\nReceived input: {\"data\": [[68, 1, 189]]}\\nHeaders passed in (total 11):\\n\\tHost: 13.77.72.52\\n\\tX-Real-Ip: 10.244.1.3\\n\\tX-Forwarded-For: 10.244.1.3\\n\\tX-Forwarded-Proto: http\\n\\tConnection: close\\n\\tContent-Length: 24\\n\\tUser-Agent: python-requests/2.22.0\\n\\tContent-Type: application/json\\n\\tAccept-Encoding: gzip, deflate\\n\\tAccept: */*\\n\\tX-Ms-Request-Id: 643a7fce-f6b4-415d-bc13-3e9950b688ce\\nScoring Timer is set to 3600.0 seconds\\nReceived input:\\n{\"data\": [[68, 1, 189]]}\\nPrediction created 13:12:14\\n200\\n127.0.0.1 - - [16/Mar/2020:13:12:14 +0000] \"POST /score HTTP/1.0\" 200 5 \"-\" \"python-requests/2.22.0\"\\n'"
      ]
     },
     "execution_count": 36,
     "metadata": {},
     "output_type": "execute_result"
    }
   ],
   "source": [
    "# GetLogs\n",
    "rest_service.get_logs()"
   ]
  },
  {
   "cell_type": "code",
   "execution_count": null,
   "metadata": {},
   "outputs": [],
   "source": [
    "#rest_service.delete()"
   ]
  },
  {
   "cell_type": "markdown",
   "metadata": {},
   "source": [
    "> Fin"
   ]
  }
 ],
 "metadata": {
  "kernelspec": {
   "display_name": "Python 3.6 - AzureML",
   "language": "python",
   "name": "python3-azureml"
  },
  "language_info": {
   "codemirror_mode": {
    "name": "ipython",
    "version": 3
   },
   "file_extension": ".py",
   "mimetype": "text/x-python",
   "name": "python",
   "nbconvert_exporter": "python",
   "pygments_lexer": "ipython3",
   "version": "3.6.9"
  }
 },
 "nbformat": 4,
 "nbformat_minor": 2
}
